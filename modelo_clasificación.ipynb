{
 "cells": [
  {
   "cell_type": "code",
   "execution_count": 13,
   "metadata": {},
   "outputs": [],
   "source": [
    "import pandas as pd\n",
    "import numpy as np\n",
    "import random\n",
    "import seaborn as sns\n",
    "import matplotlib.pyplot as plt\n",
    "from sklearn import metrics\n",
    "from sklearn.model_selection import train_test_split\n",
    "\n",
    "SEED = 472182\n",
    "random.seed(SEED)\n",
    "np.random.seed(SEED)"
   ]
  },
  {
   "cell_type": "markdown",
   "metadata": {},
   "source": [
    "# Conversión a Clasificación"
   ]
  },
  {
   "cell_type": "markdown",
   "metadata": {},
   "source": [
    "Se cargan los datos, se procesan los datos que se quieren utilizar y se realiza la partición de train y test."
   ]
  },
  {
   "cell_type": "code",
   "execution_count": 14,
   "metadata": {},
   "outputs": [],
   "source": [
    "data = pd.read_csv(\"wind_ava.csv\")\n",
    "#Esto quita todas las columnas que no terminan en .13\n",
    "data = data.filter(regex='.*\\.13|energy|datetime')\n",
    "train, test = train_test_split(data, test_size=1099, shuffle=False)"
   ]
  },
  {
   "cell_type": "markdown",
   "metadata": {},
   "source": [
    "Tras esto se realizará la conversión de la variable objetivo tanto en train como en test. Esta conversión se hace después de realizar la partición ya que en la realidad nuestro modelo no conocerá el quantil de los datos que va a predecir.\n",
    "\n",
    "Tras la conversión separamos train y test en sus atributos (X) y su variable objetivo (y)"
   ]
  },
  {
   "cell_type": "code",
   "execution_count": 15,
   "metadata": {},
   "outputs": [],
   "source": [
    "quantile_75per_train = np.quantile(train['energy'], 0.75)\n",
    "\n",
    "train['energy'] = train['energy'].apply(lambda x: 1 if x > quantile_75per_train else 0)\n",
    "test['energy'] = test['energy'].apply(lambda x: 1 if x > quantile_75per_train else 0)\n",
    "\n",
    "X_train = train.drop(['datetime', 'energy'], axis='columns')\n",
    "y_train = train['energy']\n",
    "\n",
    "X_test = test.drop(['datetime', 'energy'], axis='columns')\n",
    "y_test = test['energy']"
   ]
  },
  {
   "cell_type": "markdown",
   "metadata": {},
   "source": [
    "# Elección del Modelo"
   ]
  },
  {
   "cell_type": "markdown",
   "metadata": {},
   "source": [
    "Para la elección del modelo se utilizarán distintos modelos y se comparán los resultados que obtienen al realizar la predicción en la partición de train.\n",
    "\n",
    "Para la elección de los hiperparámetros de cada modelo se utilizará GridSearch y como scoring para evaluar cada configuración de hiperparámetros se usar la medida F1-score.\n",
    "\n",
    "Esta medida se ha elegido dado que consideramos que para las predicciones no es más importante la medida recall sobre la medida precision y viceversa. Por lo tanto F1-score nos permite ponderar ambas medidas en una sola."
   ]
  },
  {
   "cell_type": "code",
   "execution_count": 16,
   "metadata": {},
   "outputs": [],
   "source": [
    "from sklearn.model_selection import GridSearchCV\n",
    "from sklearn.neighbors import KNeighborsClassifier\n",
    "from sklearn.tree import DecisionTreeClassifier\n",
    "from sklearn.linear_model import LogisticRegression\n",
    "from sklearn.svm import NuSVC\n",
    "from sklearn.preprocessing import StandardScaler\n",
    "from sklearn.pipeline import Pipeline\n",
    "from sklearn.model_selection import TimeSeriesSplit\n",
    "from sklearn.metrics import f1_score\n",
    "from sklearn.metrics import confusion_matrix\n",
    "\n",
    "\n",
    "best_scores = {}\n",
    "best_params = {}"
   ]
  },
  {
   "cell_type": "markdown",
   "metadata": {},
   "source": [
    "## KNN"
   ]
  },
  {
   "cell_type": "markdown",
   "metadata": {},
   "source": [
    "Los hiperparámetros que se han elegido para la optimización de hiperparámetros del modelo KNN son los mismos que han sido utilizados para el entrenamiento del modelo de la regresión"
   ]
  },
  {
   "cell_type": "code",
   "execution_count": 17,
   "metadata": {},
   "outputs": [
    {
     "name": "stdout",
     "output_type": "stream",
     "text": [
      "Mejores parametros para KNN: {'knn__n_neighbors': 11, 'knn__p': 1, 'knn__weights': 'uniform'}\n",
      "Métrica para KNN: 0.8489484423707575\n"
     ]
    }
   ],
   "source": [
    "param_knn = {'knn__n_neighbors': np.arange(2,30,1),\n",
    "              'knn__weights':  ['uniform','distance'],\n",
    "              'knn__p': [1,2],\n",
    "              }\n",
    "\n",
    "pipeline_knn = Pipeline([('scaler', StandardScaler()), ('knn', KNeighborsClassifier())])\n",
    "knn_model = GridSearchCV(pipeline_knn, param_knn, cv=TimeSeriesSplit(n_splits=3), scoring= 'f1_weighted')\n",
    "\n",
    "knn_model.fit(X_train, y_train)\n",
    "\n",
    "best_params['Params elegidos para knn'] = knn_model.best_params_\n",
    "best_scores['Métrica para knn'] = knn_model.best_score_\n",
    "\n",
    "\n",
    "print(f\"Mejores parametros para KNN: {knn_model.best_params_}\")\n",
    "print(f\"Métrica para KNN: {knn_model.best_score_}\")"
   ]
  },
  {
   "cell_type": "markdown",
   "metadata": {},
   "source": [
    "## Árboles de Decisión"
   ]
  },
  {
   "cell_type": "markdown",
   "metadata": {},
   "source": [
    "Los hiperparámetros que se han elegido para la optimización de hiperparámetros del modelo de árbol de decisión son los mismos que los utilizados para el modelo de árbol de decisión utilizado para la regresión, a excepción del hiperparámetro \"class_weight\": \"balanced\", que nos permite ponderar el error de la métrica, de manera que errores en clases minoritarias sean mayores que los errores en clases mayoritarias"
   ]
  },
  {
   "cell_type": "code",
   "execution_count": 18,
   "metadata": {},
   "outputs": [
    {
     "name": "stdout",
     "output_type": "stream",
     "text": [
      "Mejores parametros para arbol: {'class_weight': 'balanced', 'max_depth': 8, 'min_impurity_decrease': 0.0, 'min_samples_split': 16}\n",
      "Métrica para arbol: 0.8282316066630363\n"
     ]
    }
   ],
   "source": [
    "tree_params = {'max_depth': np.arange(4,10,2),\n",
    "               'min_samples_split':np.arange(10,42,2),\n",
    "               'min_impurity_decrease':[0.0, 1.0],\n",
    "              'class_weight':['balanced']}\n",
    "\n",
    "pipeline_tree = DecisionTreeClassifier(random_state = SEED)\n",
    "tree_model = GridSearchCV(pipeline_tree, tree_params, cv=TimeSeriesSplit(n_splits=3), scoring= 'f1_weighted')\n",
    "\n",
    "tree_model.fit(X_train, y_train)\n",
    "\n",
    "best_params['Params elegidos para arbol'] = tree_model.best_params_\n",
    "best_scores['Métrica para arbol'] = tree_model.best_score_\n",
    "\n",
    "print(f\"Mejores parametros para arbol: {tree_model.best_params_}\")\n",
    "print(f\"Métrica para arbol: {tree_model.best_score_}\")"
   ]
  },
  {
   "cell_type": "markdown",
   "metadata": {},
   "source": [
    "## Regresión Logística"
   ]
  },
  {
   "cell_type": "markdown",
   "metadata": {},
   "source": [
    "Para poder utilizar la regresión como modelo en una clasificación es necesario utilizar la regresión logística. Para la elección de hiperparámetros se ha realizado una investigación de los hiperparámetros que encajan con nuestros datos, buscando minimizar el error obtenido.\n",
    "\n",
    "En este caso también se ha añadido el hiperparámetro class_weight por la misma razón que se ha comentado en el árbol de decisión "
   ]
  },
  {
   "cell_type": "code",
   "execution_count": 19,
   "metadata": {},
   "outputs": [
    {
     "name": "stdout",
     "output_type": "stream",
     "text": [
      "Mejores parametros para regresión logística: {'logistic_reg__C': 0.1, 'logistic_reg__class_weight': 'balanced', 'logistic_reg__max_iter': 5000, 'logistic_reg__penalty': 'l2', 'logistic_reg__solver': 'lbfgs'}\n",
      "Métrica para regresión logística: 0.6998662231357997\n"
     ]
    }
   ],
   "source": [
    "logistic_reg_params = {'logistic_reg__penalty':[\"l2\"],\n",
    "                'logistic_reg__C':np.arange(0.1,3,0.5),\n",
    "                'logistic_reg__class_weight': [\"balanced\"],\n",
    "                'logistic_reg__max_iter': [5000, 10000, 20000, 30000],\n",
    "                'logistic_reg__solver': [\"lbfgs\",\"newton-cholesky\"]}\n",
    "pipeline_logistic_reg = Pipeline([('scaler', StandardScaler()), ('logistic_reg', LogisticRegression())])\n",
    "logistic_reg_model = GridSearchCV(pipeline_logistic_reg, logistic_reg_params, cv=TimeSeriesSplit(n_splits=3), scoring= 'f1_weighted')\n",
    "\n",
    "logistic_reg_model.fit(X_train, y_train)\n",
    "\n",
    "best_params['Params elegidos para regresión logística'] = logistic_reg_model.best_params_\n",
    "best_scores['Métrica para regresión logística'] = logistic_reg_model.best_score_\n",
    "\n",
    "print(f\"Mejores parametros para regresión logística: {logistic_reg_model.best_params_}\")\n",
    "print(f\"Métrica para regresión logística: {logistic_reg_model.best_score_}\")"
   ]
  },
  {
   "cell_type": "markdown",
   "metadata": {},
   "source": [
    "## Máquinas de Vector Soporte"
   ]
  },
  {
   "cell_type": "markdown",
   "metadata": {},
   "source": [
    "Para la elección de los valores de los hiperparámetros se han utilizado como base los valores de hiperparámetros del modelo pero se han añadido de nuevo el hiperparámetros \"class_weight\" y en este caso el hiperparámetros \"nu\" ya que con los valores por defecto el modelo no encontraba solución"
   ]
  },
  {
   "cell_type": "code",
   "execution_count": 20,
   "metadata": {},
   "outputs": [
    {
     "name": "stdout",
     "output_type": "stream",
     "text": [
      "Mejores parametros para SVM: {'svm__class_weight': 'balanced', 'svm__degree': 2, 'svm__kernel': 'poly', 'svm__nu': 0.30000000000000004}\n",
      "Métrica para SVM: 0.8586219303124542\n"
     ]
    }
   ],
   "source": [
    "svm_params = {'svm__kernel': [\"linear\",\"poly\",\"rbf\",\"sigmoid\"],\n",
    "            'svm__degree': np.arange(1,6,1),\n",
    "            'svm__class_weight':['balanced'],\n",
    "            'svm__nu': np.arange(0.1,0.5,0.1)}\n",
    "\n",
    "pipeline_svm = Pipeline([('scaler', StandardScaler()), ('svm', NuSVC())])\n",
    "svm_model = GridSearchCV(pipeline_svm, svm_params, cv=TimeSeriesSplit(n_splits=3), scoring= 'f1_weighted')\n",
    "\n",
    "svm_model.fit(X_train, np.ravel(y_train))\n",
    "\n",
    "best_params['Params elegidos para SVM'] = svm_model.best_params_\n",
    "best_scores['Métrica para SVM'] = svm_model.best_score_\n",
    "\n",
    "print(f\"Mejores parametros para SVM: {svm_model.best_params_}\")\n",
    "print(f\"Métrica para SVM: {svm_model.best_score_}\")"
   ]
  },
  {
   "cell_type": "code",
   "execution_count": 21,
   "metadata": {},
   "outputs": [
    {
     "name": "stdout",
     "output_type": "stream",
     "text": [
      "Mejores parametros elegidos para cada modelo:\n",
      "\tParams elegidos para knn: {'knn__n_neighbors': 11, 'knn__p': 1, 'knn__weights': 'uniform'}\n",
      "\tParams elegidos para arbol: {'class_weight': 'balanced', 'max_depth': 8, 'min_impurity_decrease': 0.0, 'min_samples_split': 16}\n",
      "\tParams elegidos para regresión logística: {'logistic_reg__C': 0.1, 'logistic_reg__class_weight': 'balanced', 'logistic_reg__max_iter': 5000, 'logistic_reg__penalty': 'l2', 'logistic_reg__solver': 'lbfgs'}\n",
      "\tParams elegidos para SVM: {'svm__class_weight': 'balanced', 'svm__degree': 2, 'svm__kernel': 'poly', 'svm__nu': 0.30000000000000004}\n",
      "Best Score de cada modelo:\n",
      "\tMétrica para knn: 0.8489484423707575\n",
      "\tMétrica para arbol: 0.8282316066630363\n",
      "\tMétrica para regresión logística: 0.6998662231357997\n",
      "\tMétrica para SVM: 0.8586219303124542\n"
     ]
    }
   ],
   "source": [
    "print(\"Mejores parametros elegidos para cada modelo:\")\n",
    "for modelo, param in best_params.items():\n",
    "    print(f\"\\t{modelo}: {param}\")\n",
    "\n",
    "print(\"Best Score de cada modelo:\")\n",
    "for modelo, score in best_scores.items():\n",
    "    print(f\"\\t{modelo}: {score}\")"
   ]
  },
  {
   "cell_type": "code",
   "execution_count": 22,
   "metadata": {},
   "outputs": [
    {
     "data": {
      "image/png": "[encoded data removed]",
      "text/plain": [
       "<Figure size 1400x700 with 1 Axes>"
      ]
     },
     "metadata": {},
     "output_type": "display_data"
    }
   ],
   "source": [
    "plt.figure(figsize= (14,7))\n",
    "sns.barplot(data = best_scores, orient='y')\n",
    "plt.title(\"best_scores por modelo\")\n",
    "plt.show()"
   ]
  },
  {
   "cell_type": "markdown",
   "metadata": {},
   "source": [
    "Como podemos observar el modelo que obtiene la mejor puntuación de F1-score es el SVM, el cual obtiene 0.7075 como valor. Por esta razón este será el modelo que utilizaremos para realizar las predicciones."
   ]
  },
  {
   "cell_type": "markdown",
   "metadata": {},
   "source": [
    "# Evaluación del Modelo"
   ]
  },
  {
   "cell_type": "markdown",
   "metadata": {},
   "source": [
    "## Evaluación"
   ]
  },
  {
   "cell_type": "code",
   "execution_count": 24,
   "metadata": {},
   "outputs": [
    {
     "data": {
      "image/png": "[encoded data removed]",
      "text/plain": [
       "<Figure size 640x480 with 2 Axes>"
      ]
     },
     "metadata": {},
     "output_type": "display_data"
    },
    {
     "name": "stdout",
     "output_type": "stream",
     "text": [
      "0.8413125564233472\n"
     ]
    }
   ],
   "source": [
    "y_pred=svm_model.predict(X_test)\n",
    "conf_mat = confusion_matrix(y_test, y_pred)\n",
    "\n",
    "outer_score =f1_score(y_test, y_pred,average=\"weighted\")\n",
    "cm_display = metrics.ConfusionMatrixDisplay(confusion_matrix = conf_mat, display_labels = [False, True]) \n",
    "cm_display.plot()\n",
    "plt.show() \n",
    "print(outer_score)\n"
   ]
  }
 ],
 "metadata": {
  "kernelspec": {
   "display_name": "venv",
   "language": "python",
   "name": "python3"
  },
  "language_info": {
   "codemirror_mode": {
    "name": "ipython",
    "version": 3
   },
   "file_extension": ".py",
   "mimetype": "text/x-python",
   "name": "python",
   "nbconvert_exporter": "python",
   "pygments_lexer": "ipython3",
   "version": "3.10.12"
  }
 },
 "nbformat": 4,
 "nbformat_minor": 2
}
