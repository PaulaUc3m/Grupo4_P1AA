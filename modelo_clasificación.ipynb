{
 "cells": [
  {
   "cell_type": "code",
   "execution_count": 37,
   "metadata": {},
   "outputs": [],
   "source": [
    "import pandas as pd\n",
    "import numpy as np\n",
    "from sklearn.model_selection import train_test_split"
   ]
  },
  {
   "cell_type": "code",
   "execution_count": 38,
   "metadata": {},
   "outputs": [],
   "source": [
    "data = pd.read_csv(\"wind_ava.csv\")\n",
    "#Esto quita todas las columnas que no terminan en .13\n",
    "data = data.filter(regex='.*\\.13|energy|datetime')\n",
    "train, test = train_test_split(data, test_size=1099, shuffle=False)\n",
    "\n"
   ]
  },
  {
   "cell_type": "code",
   "execution_count": 39,
   "metadata": {},
   "outputs": [],
   "source": [
    "quantile_75per_train = np.quantile(train['energy'], 0.75)\n",
    "quantile_75per_test = np.quantile(test['energy'], 0.75)\n",
    "\n",
    "train['energy'] = train['energy'].apply(lambda x: 1 if x > quantile_75per_train else 0)\n",
    "test['energy'] = test['energy'].apply(lambda x: 1 if x > quantile_75per_test else 0)\n",
    "\n",
    "X_train = train.drop(['datetime', 'energy'], axis='columns')\n",
    "y_train = train['energy']\n",
    "\n",
    "X_test = test.drop(['datetime', 'energy'], axis='columns')\n",
    "y_test = test['energy']"
   ]
  },
  {
   "cell_type": "markdown",
   "metadata": {},
   "source": [
    "# Elección del Modelo"
   ]
  },
  {
   "cell_type": "code",
   "execution_count": 52,
   "metadata": {},
   "outputs": [],
   "source": [
    "from sklearn.model_selection import GridSearchCV\n",
    "from sklearn.neighbors import KNeighborsClassifier\n",
    "from sklearn.tree import DecisionTreeClassifier\n",
    "from sklearn.linear_model import LogisticRegression\n",
    "from sklearn.svm import NuSVC\n",
    "from sklearn.preprocessing import StandardScaler\n",
    "from sklearn.pipeline import Pipeline\n",
    "from sklearn.model_selection import TimeSeriesSplit\n",
    "from sklearn.metrics import f1_score\n",
    "from sklearn.metrics import precision_recall_fscore_support\n",
    "from sklearn.metrics import confusion_matrix\n",
    "\n",
    "\n",
    "best_scores = {}\n",
    "best_params = {}"
   ]
  },
  {
   "cell_type": "markdown",
   "metadata": {},
   "source": [
    "## KNN"
   ]
  },
  {
   "cell_type": "code",
   "execution_count": 41,
   "metadata": {},
   "outputs": [
    {
     "name": "stdout",
     "output_type": "stream",
     "text": [
      "Mejores parametros para KNN con HPO: {'knn__n_neighbors': 11, 'knn__p': 1, 'knn__weights': 'uniform'}\n",
      "Error para KNN con HPO: 0.6798475570431824\n"
     ]
    }
   ],
   "source": [
    "param_knn = {'knn__n_neighbors': np.arange(2,20,1),\n",
    "              'knn__weights':  ['uniform','distance'],\n",
    "              'knn__p': [1,2],\n",
    "              }\n",
    "\n",
    "pipeline_knn = Pipeline([('scaler', StandardScaler()), ('knn', KNeighborsClassifier())])\n",
    "knn_model = GridSearchCV(pipeline_knn, param_knn, cv=TimeSeriesSplit(n_splits=3), scoring= 'f1')\n",
    "\n",
    "knn_model.fit(X_train, y_train)\n",
    "\n",
    "best_params['Params elegidos para knn con HPO'] = knn_model.best_params_\n",
    "best_scores['Error para knn con HPO'] = knn_model.best_score_\n",
    "\n",
    "\n",
    "print(f\"Mejores parametros para KNN con HPO: {knn_model.best_params_}\")\n",
    "print(f\"Error para KNN con HPO: {knn_model.best_score_}\")"
   ]
  },
  {
   "cell_type": "markdown",
   "metadata": {},
   "source": [
    "## Árboles de Decisión"
   ]
  },
  {
   "cell_type": "code",
   "execution_count": 42,
   "metadata": {},
   "outputs": [
    {
     "name": "stdout",
     "output_type": "stream",
     "text": [
      "Mejores parametros para arbol con HPO: {'class_weight': 'balanced', 'max_depth': 6, 'min_impurity_decrease': 0.0, 'min_samples_split': 10}\n",
      "Error para arbol con HPO: 0.7019022881090203\n"
     ]
    }
   ],
   "source": [
    "tree_params = {'max_depth': np.arange(4,10,2),\n",
    "               'min_samples_split':np.arange(10,42,2),\n",
    "               'min_impurity_decrease':[0.0, 1.0],\n",
    "              'class_weight':['balanced']}\n",
    "\n",
    "pipeline_tree = DecisionTreeClassifier()\n",
    "tree_model = GridSearchCV(pipeline_tree, tree_params, cv=TimeSeriesSplit(n_splits=3), scoring= 'f1')\n",
    "\n",
    "tree_model.fit(X_train, y_train)\n",
    "\n",
    "best_params['Params elegidos para arbol con HPO'] = tree_model.best_params_\n",
    "best_scores['Error para arbol con HPO'] = tree_model.best_score_\n",
    "\n",
    "print(f\"Mejores parametros para arbol con HPO: {tree_model.best_params_}\")\n",
    "print(f\"Error para arbol con HPO: {tree_model.best_score_}\")"
   ]
  },
  {
   "cell_type": "markdown",
   "metadata": {},
   "source": [
    "## Regresión Logística"
   ]
  },
  {
   "cell_type": "code",
   "execution_count": 43,
   "metadata": {},
   "outputs": [
    {
     "name": "stdout",
     "output_type": "stream",
     "text": [
      "Mejores parametros para regresión logística con HPO: {'logistic_reg__C': 1.1, 'logistic_reg__class_weight': 'balanced', 'logistic_reg__max_iter': 5000, 'logistic_reg__penalty': 'l2', 'logistic_reg__solver': 'newton-cholesky'}\n",
      "Error para regresión logística con HPO: 0.5451683802560995\n"
     ]
    }
   ],
   "source": [
    "logistic_reg_params = {'logistic_reg__penalty':[\"l2\"],\n",
    "                'logistic_reg__C':np.arange(0.1,3,0.5),\n",
    "                'logistic_reg__class_weight': [\"balanced\"],\n",
    "                'logistic_reg__max_iter': [5000, 10000, 20000, 30000],\n",
    "                'logistic_reg__solver': [\"lbfgs\",\"newton-cholesky\"]}\n",
    "pipeline_logistic_reg = Pipeline([('scaler', StandardScaler()), ('logistic_reg', LogisticRegression())])\n",
    "logistic_reg_model = GridSearchCV(pipeline_logistic_reg, logistic_reg_params, cv=TimeSeriesSplit(n_splits=3), scoring= 'f1')\n",
    "\n",
    "logistic_reg_model.fit(X_train, y_train)\n",
    "\n",
    "best_params['Params elegidos para regresión logística con HPO'] = logistic_reg_model.best_params_\n",
    "best_scores['Error para regresión logística con HPO'] = logistic_reg_model.best_score_\n",
    "\n",
    "print(f\"Mejores parametros para regresión logística con HPO: {logistic_reg_model.best_params_}\")\n",
    "print(f\"Error para regresión logística con HPO: {logistic_reg_model.best_score_}\")"
   ]
  },
  {
   "cell_type": "markdown",
   "metadata": {},
   "source": [
    "## Máquinas de Vector Soporte"
   ]
  },
  {
   "cell_type": "code",
   "execution_count": 44,
   "metadata": {},
   "outputs": [
    {
     "name": "stdout",
     "output_type": "stream",
     "text": [
      "Mejores parametros para SVM con HPO: {'svm__class_weight': 'balanced', 'svm__degree': 2, 'svm__kernel': 'poly', 'svm__nu': 0.30000000000000004}\n",
      "Error para SVM con HPO: 0.7075713886675891\n"
     ]
    }
   ],
   "source": [
    "svm_params = {'svm__kernel': [\"linear\",\"poly\",\"rbf\",\"sigmoid\"],\n",
    "            'svm__degree': np.arange(1,6,1),\n",
    "            'svm__class_weight':['balanced'],\n",
    "            'svm__nu': np.arange(0.1,0.5,0.1)}\n",
    "\n",
    "pipeline_svm = Pipeline([('scaler', StandardScaler()), ('svm', NuSVC())])\n",
    "svm_model = GridSearchCV(pipeline_svm, svm_params, cv=TimeSeriesSplit(n_splits=3), scoring= 'f1')\n",
    "\n",
    "svm_model.fit(X_train, np.ravel(y_train))\n",
    "\n",
    "best_params['Params elegidos para SVM con HPO'] = svm_model.best_params_\n",
    "best_scores['Error para SVM con HPO'] = svm_model.best_score_\n",
    "\n",
    "print(f\"Mejores parametros para SVM con HPO: {svm_model.best_params_}\")\n",
    "print(f\"Error para SVM con HPO: {svm_model.best_score_}\")"
   ]
  },
  {
   "cell_type": "code",
   "execution_count": 45,
   "metadata": {},
   "outputs": [
    {
     "name": "stdout",
     "output_type": "stream",
     "text": [
      "Mejores parametros elegidos para cada modelo:\n",
      "\tParams elegidos para knn con HPO: {'knn__n_neighbors': 11, 'knn__p': 1, 'knn__weights': 'uniform'}\n",
      "\tParams elegidos para arbol con HPO: {'class_weight': 'balanced', 'max_depth': 6, 'min_impurity_decrease': 0.0, 'min_samples_split': 10}\n",
      "\tParams elegidos para regresión logística con HPO: {'logistic_reg__C': 1.1, 'logistic_reg__class_weight': 'balanced', 'logistic_reg__max_iter': 5000, 'logistic_reg__penalty': 'l2', 'logistic_reg__solver': 'newton-cholesky'}\n",
      "\tParams elegidos para SVM con HPO: {'svm__class_weight': 'balanced', 'svm__degree': 2, 'svm__kernel': 'poly', 'svm__nu': 0.30000000000000004}\n",
      "Best Score de cada modelo:\n",
      "\tError para knn con HPO: 0.6798475570431824\n",
      "\tError para arbol con HPO: 0.7019022881090203\n",
      "\tError para regresión logística con HPO: 0.5451683802560995\n",
      "\tError para SVM con HPO: 0.7075713886675891\n"
     ]
    }
   ],
   "source": [
    "print(\"Mejores parametros elegidos para cada modelo:\")\n",
    "for modelo, param in best_params.items():\n",
    "    print(f\"\\t{modelo}: {param}\")\n",
    "\n",
    "print(\"Best Score de cada modelo:\")\n",
    "for modelo, score in best_scores.items():\n",
    "    print(f\"\\t{modelo}: {score}\")"
   ]
  },
  {
   "cell_type": "markdown",
   "metadata": {},
   "source": [
    "# Evaluación del Modelo"
   ]
  },
  {
   "cell_type": "markdown",
   "metadata": {},
   "source": [
    "## Evaluación"
   ]
  },
  {
   "cell_type": "code",
   "execution_count": 58,
   "metadata": {},
   "outputs": [
    {
     "name": "stdout",
     "output_type": "stream",
     "text": [
      "[[779  45]\n",
      " [113 162]]\n",
      "0.6721991701244814\n"
     ]
    }
   ],
   "source": [
    "y_pred=svm_model.predict(X_test)\n",
    "conf_mat = confusion_matrix(y_test, y_pred)\n",
    "\n",
    "outer_score =f1_score(y_test, y_pred)\n",
    "#precision, recall, fbeta_score, support = precision_recall_fscore_support(y_test, y_pred)\n",
    "print(conf_mat)\n",
    "print(outer_score)\n",
    "#print(precision, recall, fbeta_score)\n",
    "\n"
   ]
  }
 ],
 "metadata": {
  "kernelspec": {
   "display_name": "venv",
   "language": "python",
   "name": "python3"
  },
  "language_info": {
   "codemirror_mode": {
    "name": "ipython",
    "version": 3
   },
   "file_extension": ".py",
   "mimetype": "text/x-python",
   "name": "python",
   "nbconvert_exporter": "python",
   "pygments_lexer": "ipython3",
   "version": "3.10.12"
  }
 },
 "nbformat": 4,
 "nbformat_minor": 2
}
