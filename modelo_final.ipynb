{
 "cells": [
  {
   "cell_type": "code",
   "execution_count": 14,
   "metadata": {},
   "outputs": [
    {
     "name": "stdout",
     "output_type": "stream",
     "text": [
      "[688.52800589 257.45824916 970.40310023 ... 253.54472232  27.7959281\n",
      "  -5.10986316]\n"
     ]
    }
   ],
   "source": [
    "import joblib\n",
    "import pandas as pd\n",
    "import csv\n",
    "\n",
    "modelo_final = joblib.load(\"modelo_final.pkl\")\n",
    "\n",
    "data = pd.read_csv(\"wind_comp.csv\")\n",
    "#Esto quita todas las columnas que no terminan en .13\n",
    "data = data.filter(regex='.*\\.13|energy|datetime')\n",
    "data = data.drop(['v10.13', 'u10.13','datetime'], axis = 1)\n",
    "predicion = modelo_final.predict(data)\n",
    "print(predicion)\n",
    "pd.DataFrame(predicion, columns=['energy']).to_csv('predicciones.csv',index=None)"
   ]
  }
 ],
 "metadata": {
  "kernelspec": {
   "display_name": "venv",
   "language": "python",
   "name": "python3"
  },
  "language_info": {
   "codemirror_mode": {
    "name": "ipython",
    "version": 3
   },
   "file_extension": ".py",
   "mimetype": "text/x-python",
   "name": "python",
   "nbconvert_exporter": "python",
   "pygments_lexer": "ipython3",
   "version": "3.10.12"
  }
 },
 "nbformat": 4,
 "nbformat_minor": 2
}
