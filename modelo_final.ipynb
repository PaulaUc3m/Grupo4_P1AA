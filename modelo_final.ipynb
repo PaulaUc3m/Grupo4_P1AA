{
 "cells": [
  {
   "cell_type": "markdown",
   "metadata": {},
   "source": [
    "# Modelo final y datos de competición\n",
    "\n",
    "Una vez el modelo final ha sido almacenado en el fichero *modelo_final.pkl* este se utiliza para realizar las predicciones de energía de los datos de competición en *wind_comp.csv*. Antes de realizar las predicciones es necesario cargar el modelo, los datos, y eliminar las columnas que se quitaron en el proceso de entrenamiento por motivos varios. Este último paso es necesario ya que solo se puede predecir con las columnas que tiene el modelo, y en caso de añadir más se produciría un error. "
   ]
  },
  {
   "cell_type": "code",
   "execution_count": 9,
   "metadata": {},
   "outputs": [
    {
     "name": "stdout",
     "output_type": "stream",
     "text": [
      "[689.54803605 252.66851294 940.31267291 ... 252.90355447  -1.26130523\n",
      " -36.48660871]\n"
     ]
    }
   ],
   "source": [
    "import joblib\n",
    "import pandas as pd\n",
    "import numpy as np\n",
    "\n",
    "modelo_final = joblib.load(\"modelo_final.pkl\")\n",
    "\n",
    "data = pd.read_csv(\"wind_comp.csv\")\n",
    "#Esto quita todas las columnas que no terminan en .13\n",
    "data = data.filter(regex='.*\\.13|energy|datetime')\n",
    "data = data.drop(['v10.13', 'u10.13','datetime'], axis = 1)\n",
    "predicion = modelo_final.predict(data)\n",
    "\n",
    "print(predicion)"
   ]
  },
  {
   "cell_type": "markdown",
   "metadata": {},
   "source": [
    "### Análisis de las predicciones\n",
    "Una vez obtenidas las predicciones, se han adquirido algunos datos para conocer la naturaleza de estos, poder compararlos con los ya conocidos y estimar si existe algún error mayor con las predicciones en caso de existir una diferencia de escala demasiado grande. Se ha decidido obtener desviación típica, media, tercer cuartil y máximos y mínimos, siendo estos los analizados en pasos anteriores del estudio:"
   ]
  },
  {
   "cell_type": "code",
   "execution_count": 13,
   "metadata": {},
   "outputs": [
    {
     "name": "stdout",
     "output_type": "stream",
     "text": [
      "Desviación típica de las predicciones:  545.9782764646917  Los datos de entrenamiento contaban con 665.531609\n",
      "Media de las predicciones:  712.6274136463793  Los datos de entrenamiento contaban con 693.126247\n",
      "3er cuartil de las predicciones:  1001.2901817536715  Los datos de entrenamiento contaban con 1089.375000\n",
      "Máximo de las predicciones:  2283.6012072184935 Mínimo de las predicciones:  -106.0682576486081\n",
      "Máximo entrenamiento: 2792.550000, Mínimo entrenamiento: 0.010000\n"
     ]
    }
   ],
   "source": [
    "print(\"Desviación típica de las predicciones: \",np.std(predicion), \" Los datos de entrenamiento contaban con 665.531609\")\n",
    "print(\"Media de las predicciones: \",np.mean(predicion), \" Los datos de entrenamiento contaban con 693.126247\")\n",
    "print(\"3er cuartil de las predicciones: \",np.quantile(predicion, 0.75), \" Los datos de entrenamiento contaban con 1089.375000\")\n",
    "print(\"Máximo de las predicciones: \" ,np.max(predicion), \"Mínimo de las predicciones: \" ,np.min(predicion))\n",
    "print(\"Máximo entrenamiento: 2792.550000, Mínimo entrenamiento: 0.010000\")"
   ]
  },
  {
   "cell_type": "markdown",
   "metadata": {},
   "source": [
    "Tras este análisis se considera que los datos obtenidos son razonables, por lo que las predicciones del modelo se pueden aceptar como válidas. "
   ]
  },
  {
   "cell_type": "markdown",
   "metadata": {},
   "source": [
    "### Almacenamiento de predicciones\n",
    "Después del calculo de predicciones se almacenan todos los datos en un fichero csv, en el cual se añade el título *energy* a la columna. Para esta tarea se utiliza la función de pandas *to_csv*."
   ]
  },
  {
   "cell_type": "code",
   "execution_count": null,
   "metadata": {},
   "outputs": [],
   "source": [
    "pd.DataFrame(predicion, columns=['energy']).to_csv('predicciones.csv',index=None)"
   ]
  },
  {
   "cell_type": "markdown",
   "metadata": {},
   "source": [
    "# Uso de ChatGPT y prompts "
   ]
  },
  {
   "cell_type": "markdown",
   "metadata": {},
   "source": [
    "Durante el desarrollo de la práctica hemos usado ChatGPT para responder dudas de caracter teórico o para obtener código para realizar una tarea en concreto, la cual no teníamos una manera clara de la que comenzar. Para el resto de información se ha consultado en su mayoría el manual de numpy, la web de sklearn y ejemplos varios de Kaggle.\n",
    "\n",
    "- **Prompts relevantes**:\n",
    "  1. ¿Por qué podría ser importante comprobar las colummnas correladas antes de realizar un entrenamiento?\n",
    "  2. ¿Cómo podría simular un TimeSeriesSplit de manera que cada vez que el conjunto aumenta se le añaden los datos del siguiente año?\n",
    "  3. ¿Cómo puedo saber si un error a través de la métrica RMSE es alto o bajo?\n",
    "  4. Dame algunos ejemplos de valores para hiperparámetros de Regresión lineal Lasso. Esta consulta se repitió para otros modelos en caso de no encontrar información en el manual.\n",
    "  5. Tengo un dataframe donde quiero obtener el 3ºquartil de una columna \"energy\" y para cada valor de energy quiero cambiar su valor numérico a \"1\" si el valor es mayor al 3ºquartil o cambiar a \"0\" si el valor está por debajo del 3ºquartil.\n",
    "- **Casos de respuestas erróneas**:\n",
    "  - Para la respuesta de la consulta 4 obtuvimos varios ejemplos donde se utilizaban hiperparámetros que no existían dentro de la biblioteca sklearn, necesitando así pasar a definición de valores de manera empírica.\n",
    "\n",
    "Aunque el uso de ChatGPT para la práctica ha resultado útil para empezar a realizar varias partes, en el resultado final se ha mantenido poco de todo lo consultado, por lo que la mayoría de las *prompts* no se ven reflejadas en el cuaderno. "
   ]
  }
 ],
 "metadata": {
  "kernelspec": {
   "display_name": "venv",
   "language": "python",
   "name": "python3"
  },
  "language_info": {
   "codemirror_mode": {
    "name": "ipython",
    "version": 3
   },
   "file_extension": ".py",
   "mimetype": "text/x-python",
   "name": "python",
   "nbconvert_exporter": "python",
   "pygments_lexer": "ipython3",
   "version": "3.10.12"
  }
 },
 "nbformat": 4,
 "nbformat_minor": 2
}
